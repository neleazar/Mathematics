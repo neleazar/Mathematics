{
 "cells": [
  {
   "cell_type": "markdown",
   "metadata": {},
   "source": [
    "### Importing my Custom Library"
   ]
  },
  {
   "cell_type": "code",
   "execution_count": 2,
   "metadata": {},
   "outputs": [],
   "source": [
    "from f1 import F1VS, F1Map\n",
    "import networkx as nx\n",
    "import matplotlib.pyplot as plt"
   ]
  },
  {
   "cell_type": "markdown",
   "metadata": {},
   "source": [
    "#### Creating F1 Vector Spaces"
   ]
  },
  {
   "cell_type": "code",
   "execution_count": 3,
   "metadata": {},
   "outputs": [],
   "source": [
    "v1 = F1VS([1,2,3])\n",
    "v2 = F1VS([4, 5])"
   ]
  },
  {
   "cell_type": "code",
   "execution_count": 5,
   "metadata": {},
   "outputs": [
    {
     "name": "stdout",
     "output_type": "stream",
     "text": [
      "v1 = {0, 1, 2, 3}, v2 = {0, 4, 5}\n"
     ]
    }
   ],
   "source": [
    "print(f\"v1 = {v1}, v2 = {v2}\")"
   ]
  },
  {
   "cell_type": "markdown",
   "metadata": {},
   "source": [
    "#### Type of Vector Spaces"
   ]
  },
  {
   "cell_type": "code",
   "execution_count": 7,
   "metadata": {},
   "outputs": [
    {
     "name": "stdout",
     "output_type": "stream",
     "text": [
      "Type of v1 is : <class 'f2.F1VS'>\n",
      "Type of v2 is : <class 'f2.F1VS'>\n"
     ]
    }
   ],
   "source": [
    "print(\"Type of v1 is :\",type(v1))\n",
    "print(\"Type of v2 is :\",type(v2))"
   ]
  },
  {
   "cell_type": "markdown",
   "metadata": {},
   "source": [
    "#### Computing F1 Sub Spaces"
   ]
  },
  {
   "cell_type": "code",
   "execution_count": 7,
   "metadata": {},
   "outputs": [
    {
     "name": "stdout",
     "output_type": "stream",
     "text": [
      "Sub Space of v1 =  {0, 2}\n"
     ]
    }
   ],
   "source": [
    "subv1 = v1.subset([2])\n",
    "print(\"Sub Space of v1 = \",subv1)"
   ]
  },
  {
   "cell_type": "markdown",
   "metadata": {},
   "source": [
    "#### Computing Direct Sum of F1 Vector Spaces"
   ]
  },
  {
   "cell_type": "code",
   "execution_count": 8,
   "metadata": {},
   "outputs": [
    {
     "name": "stdout",
     "output_type": "stream",
     "text": [
      "Direct sum of v1 and v2 = {0, 1, 2, 3, 4, 5}\n"
     ]
    }
   ],
   "source": [
    "v1_dsum_v2 = v1.direct_sum(v2)\n",
    "print(f\"Direct sum of v1 and v2 = {v1_dsum_v2}\")"
   ]
  },
  {
   "cell_type": "markdown",
   "metadata": {},
   "source": [
    "#### Computing Quotient"
   ]
  },
  {
   "cell_type": "code",
   "execution_count": 9,
   "metadata": {},
   "outputs": [
    {
     "name": "stdout",
     "output_type": "stream",
     "text": [
      "v1 = {0, 1, 2, 3}, sub v1 = {0, 2}\n",
      "Quotient space = {0, 1, 3}\n"
     ]
    }
   ],
   "source": [
    "V1_qot_subv1 = v1.quotient_space(subv1)\n",
    "print(f\"v1 = {v1}, sub v1 = {subv1}\")\n",
    "print(f\"Quotient space = {V1_qot_subv1}\")\n"
   ]
  },
  {
   "cell_type": "markdown",
   "metadata": {},
   "source": [
    "#### Computing Dimension of F1VS"
   ]
  },
  {
   "cell_type": "code",
   "execution_count": 10,
   "metadata": {},
   "outputs": [
    {
     "name": "stdout",
     "output_type": "stream",
     "text": [
      "v1 = {0, 1, 2, 3}, Dimension of v1 = 3\n",
      "v2 = {0, 4, 5}, Dimension of v2 = 2\n",
      "v1_dsum_v2 = {0, 1, 2, 3, 4, 5}, Dimension of v1_dsum_v2 = 5\n"
     ]
    }
   ],
   "source": [
    "print(f\"v1 = {v1}, Dimension of v1 = {v1.dimn()}\")\n",
    "\n",
    "print(f\"v2 = {v2}, Dimension of v2 = {v2.dimn()}\")\n",
    "\n",
    "print(f\"v1_dsum_v2 = {v1_dsum_v2}, Dimension of v1_dsum_v2 = {v1_dsum_v2.dimn()}\")"
   ]
  },
  {
   "cell_type": "markdown",
   "metadata": {},
   "source": [
    "### F1 Linear Maps (Class of F1 linear maps)"
   ]
  },
  {
   "cell_type": "markdown",
   "metadata": {},
   "source": [
    "#### Creating an F1 linear map"
   ]
  },
  {
   "cell_type": "code",
   "execution_count": 11,
   "metadata": {},
   "outputs": [
    {
     "name": "stdout",
     "output_type": "stream",
     "text": [
      "F1Map({0: 0, 1: 0, 2: 4, 3: 5})\n"
     ]
    }
   ],
   "source": [
    "# Define a valid mapping: {0 → 0, 1 → 0, 2 → 4, 3 → 5}\n",
    "mapping = {0: 0, 1: 0, 2: 4, 3: 5}\n",
    "f = F1Map(v1, v2, mapping)\n",
    "print(f)"
   ]
  },
  {
   "cell_type": "code",
   "execution_count": 12,
   "metadata": {},
   "outputs": [
    {
     "name": "stdout",
     "output_type": "stream",
     "text": [
      "<class 'f1.F1Map'>\n"
     ]
    }
   ],
   "source": [
    "print(type(f))"
   ]
  },
  {
   "cell_type": "code",
   "execution_count": null,
   "metadata": {},
   "outputs": [],
   "source": []
  }
 ],
 "metadata": {
  "kernelspec": {
   "display_name": "base",
   "language": "python",
   "name": "python3"
  },
  "language_info": {
   "codemirror_mode": {
    "name": "ipython",
    "version": 3
   },
   "file_extension": ".py",
   "mimetype": "text/x-python",
   "name": "python",
   "nbconvert_exporter": "python",
   "pygments_lexer": "ipython3",
   "version": "3.9.19"
  }
 },
 "nbformat": 4,
 "nbformat_minor": 2
}
