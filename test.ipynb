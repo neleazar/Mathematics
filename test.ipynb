{
 "cells": [
  {
   "cell_type": "markdown",
   "metadata": {},
   "source": [
    "### Importing my Custom Library"
   ]
  },
  {
   "cell_type": "code",
   "execution_count": 1,
   "metadata": {},
   "outputs": [],
   "source": [
    "from vf1 import F1VS, F1Map\n",
    "import numpy as np"
   ]
  },
  {
   "cell_type": "markdown",
   "metadata": {},
   "source": [
    "#### Creating F1 Vector Spaces"
   ]
  },
  {
   "cell_type": "code",
   "execution_count": 2,
   "metadata": {},
   "outputs": [],
   "source": [
    "v1 = F1VS([1,2,3])\n",
    "v2 = F1VS([4, 5])"
   ]
  },
  {
   "cell_type": "code",
   "execution_count": 3,
   "metadata": {},
   "outputs": [
    {
     "name": "stdout",
     "output_type": "stream",
     "text": [
      "v1 = {0, 1, 2, 3}, v2 = {0, 4, 5}\n"
     ]
    }
   ],
   "source": [
    "print(f\"v1 = {v1}, v2 = {v2}\")"
   ]
  },
  {
   "cell_type": "markdown",
   "metadata": {},
   "source": [
    "#### Type of Vector Spaces"
   ]
  },
  {
   "cell_type": "code",
   "execution_count": 4,
   "metadata": {},
   "outputs": [
    {
     "name": "stdout",
     "output_type": "stream",
     "text": [
      "Type of v1 is : <class 'vf1.F1VS'>\n",
      "Type of v2 is : <class 'vf1.F1VS'>\n"
     ]
    }
   ],
   "source": [
    "print(\"Type of v1 is :\",type(v1))\n",
    "print(\"Type of v2 is :\",type(v2))"
   ]
  },
  {
   "cell_type": "markdown",
   "metadata": {},
   "source": [
    "#### Computing F1 Sub Spaces"
   ]
  },
  {
   "cell_type": "code",
   "execution_count": 5,
   "metadata": {},
   "outputs": [
    {
     "name": "stdout",
     "output_type": "stream",
     "text": [
      "Sub Space of v1 =  {0, 2}\n"
     ]
    }
   ],
   "source": [
    "subv1 = v1.subset([2])\n",
    "print(\"Sub Space of v1 = \",subv1)"
   ]
  },
  {
   "cell_type": "markdown",
   "metadata": {},
   "source": [
    "#### Computing Direct Sum of F1 Vector Spaces"
   ]
  },
  {
   "cell_type": "code",
   "execution_count": 6,
   "metadata": {},
   "outputs": [
    {
     "name": "stdout",
     "output_type": "stream",
     "text": [
      "Direct sum of v1 and v2 = {0, 1, 2, 3, 4, 5}\n"
     ]
    }
   ],
   "source": [
    "v1_dsum_v2 = v1.direct_sum(v2)\n",
    "print(f\"Direct sum of v1 and v2 = {v1_dsum_v2}\")"
   ]
  },
  {
   "cell_type": "markdown",
   "metadata": {},
   "source": [
    "#### Computing Quotient"
   ]
  },
  {
   "cell_type": "code",
   "execution_count": 7,
   "metadata": {},
   "outputs": [
    {
     "name": "stdout",
     "output_type": "stream",
     "text": [
      "v1 = {0, 1, 2, 3}, sub v1 = {0, 2}\n",
      "Quotient space = {0, 1, 3}\n"
     ]
    }
   ],
   "source": [
    "V1_qot_subv1 = v1.quotient_space(subv1)\n",
    "print(f\"v1 = {v1}, sub v1 = {subv1}\")\n",
    "print(f\"Quotient space = {V1_qot_subv1}\")\n"
   ]
  },
  {
   "cell_type": "markdown",
   "metadata": {},
   "source": [
    "#### Computing Dimension of F1VS"
   ]
  },
  {
   "cell_type": "code",
   "execution_count": 8,
   "metadata": {},
   "outputs": [
    {
     "name": "stdout",
     "output_type": "stream",
     "text": [
      "v1 = {0, 1, 2, 3}, Dimension of v1 = 3\n",
      "v2 = {0, 4, 5}, Dimension of v2 = 2\n",
      "v1_dsum_v2 = {0, 1, 2, 3, 4, 5}, Dimension of v1_dsum_v2 = 5\n"
     ]
    }
   ],
   "source": [
    "print(f\"v1 = {v1}, Dimension of v1 = {v1.dimn()}\")\n",
    "\n",
    "print(f\"v2 = {v2}, Dimension of v2 = {v2.dimn()}\")\n",
    "\n",
    "print(f\"v1_dsum_v2 = {v1_dsum_v2}, Dimension of v1_dsum_v2 = {v1_dsum_v2.dimn()}\")"
   ]
  },
  {
   "cell_type": "markdown",
   "metadata": {},
   "source": [
    "### F1 Linear Maps (Class of F1 linear maps)"
   ]
  },
  {
   "cell_type": "markdown",
   "metadata": {},
   "source": [
    "#### Creating an F1 linear map"
   ]
  },
  {
   "cell_type": "code",
   "execution_count": 9,
   "metadata": {},
   "outputs": [
    {
     "name": "stdout",
     "output_type": "stream",
     "text": [
      "F1Map({0: 0, 1: 0, 2: 4, 3: 5})\n"
     ]
    }
   ],
   "source": [
    "# Define a valid mapping: {0 → 0, 1 → 0, 2 → 4, 3 → 5}\n",
    "mapping = {0: 0, 1: 0, 2: 4, 3: 5}\n",
    "f = F1Map(v1, v2, mapping)\n",
    "print(f)"
   ]
  },
  {
   "cell_type": "code",
   "execution_count": 10,
   "metadata": {},
   "outputs": [
    {
     "name": "stdout",
     "output_type": "stream",
     "text": [
      "<class 'f1.F1Map'>\n"
     ]
    }
   ],
   "source": [
    "print(type(f))"
   ]
  },
  {
   "cell_type": "markdown",
   "metadata": {},
   "source": [
    "### Kernel of F1 Linear Maps"
   ]
  },
  {
   "cell_type": "code",
   "execution_count": 11,
   "metadata": {},
   "outputs": [
    {
     "name": "stdout",
     "output_type": "stream",
     "text": [
      "Kernel of f: {0, 1}\n"
     ]
    }
   ],
   "source": [
    "ker = f.kernel()\n",
    "print(\"Kernel of f:\", ker)"
   ]
  },
  {
   "cell_type": "markdown",
   "metadata": {},
   "source": [
    "##### Finding types and dimension of kernel"
   ]
  },
  {
   "cell_type": "code",
   "execution_count": 12,
   "metadata": {},
   "outputs": [
    {
     "name": "stdout",
     "output_type": "stream",
     "text": [
      "type of kernel of f:  <class 'f1.F1VS'>\n",
      "Dimension of kernel of f:  1\n"
     ]
    }
   ],
   "source": [
    "print(\"type of kernel of f: \",type(ker))\n",
    "print(\"Dimension of kernel of f: \", ker.dimn())"
   ]
  },
  {
   "cell_type": "markdown",
   "metadata": {},
   "source": [
    "### Computing Image of F1Maps"
   ]
  },
  {
   "cell_type": "code",
   "execution_count": 13,
   "metadata": {},
   "outputs": [
    {
     "data": {
      "text/plain": [
       "{0, 4, 5}"
      ]
     },
     "execution_count": 13,
     "metadata": {},
     "output_type": "execute_result"
    }
   ],
   "source": [
    "f.image()"
   ]
  },
  {
   "cell_type": "code",
   "execution_count": 14,
   "metadata": {},
   "outputs": [
    {
     "data": {
      "text/plain": [
       "f1.F1VS"
      ]
     },
     "execution_count": 14,
     "metadata": {},
     "output_type": "execute_result"
    }
   ],
   "source": [
    "type(f.image())"
   ]
  },
  {
   "cell_type": "markdown",
   "metadata": {},
   "source": [
    "#### Verifying Rank-Nullity for F1 Vector Spaces\n",
    "Let f : v1 to v2 be an F1Map, R(f) is dimension of image of f and N(f) is dimension of kernel of f then,\n",
    "R(f) + N(f) = dim(v1) ."
   ]
  },
  {
   "cell_type": "code",
   "execution_count": 15,
   "metadata": {},
   "outputs": [
    {
     "name": "stdout",
     "output_type": "stream",
     "text": [
      "True\n"
     ]
    }
   ],
   "source": [
    "print(f.image().dimn() + ker.dimn() == v1.dimn())\n"
   ]
  },
  {
   "cell_type": "markdown",
   "metadata": {},
   "source": [
    "#### Verifying Isomorphism"
   ]
  },
  {
   "cell_type": "code",
   "execution_count": 16,
   "metadata": {},
   "outputs": [
    {
     "name": "stdout",
     "output_type": "stream",
     "text": [
      "Is f an isomorphism? True\n",
      "Is fn an isomorphism? False\n"
     ]
    }
   ],
   "source": [
    "v3 = F1VS([3,4,5])\n",
    "v4 = F1VS([6,7,8])\n",
    "# Define a valid mapping: {0 → 0, 3 → 6, 4 → 7, 5 → 8}\n",
    "f_mapping = {0:0, 3:6, 4:7, 5:8}\n",
    "f1 = F1Map(v3, v4,f_mapping)\n",
    "print(\"Is f an isomorphism?\", f1.is_isomorphic())  # Expected: True\n",
    "\n",
    "# Define a non-isomorphic mapping (not surjective): {0 → 0, 1 → 4, 2 → 0, 3 → 5}\n",
    "f2_mapping = {0: 0, 3: 0, 4: 6, 5: 7}\n",
    "\n",
    "f2 = F1Map(v3, v4, f2_mapping)\n",
    "print(\"Is fn an isomorphism?\", f2.is_isomorphic())  # Expected: False\n"
   ]
  },
  {
   "cell_type": "markdown",
   "metadata": {},
   "source": [
    "### Verifying 1st Isomorphism theorem"
   ]
  },
  {
   "cell_type": "code",
   "execution_count": 17,
   "metadata": {},
   "outputs": [
    {
     "data": {
      "text/plain": [
       "True"
      ]
     },
     "execution_count": 17,
     "metadata": {},
     "output_type": "execute_result"
    }
   ],
   "source": [
    "g = F1Map(v1.quotient_space(f.kernel()), f.image(), mapping)\n",
    "g.is_isomorphic()"
   ]
  },
  {
   "cell_type": "code",
   "execution_count": 18,
   "metadata": {},
   "outputs": [
    {
     "data": {
      "text/plain": [
       "True"
      ]
     },
     "execution_count": 18,
     "metadata": {},
     "output_type": "execute_result"
    }
   ],
   "source": [
    "h = F1Map(v3.quotient_space(f1.kernel()), f1.image(), f_mapping)\n",
    "h.is_isomorphic()"
   ]
  },
  {
   "cell_type": "markdown",
   "metadata": {},
   "source": [
    "#### Computing CoKernel"
   ]
  },
  {
   "cell_type": "code",
   "execution_count": 19,
   "metadata": {},
   "outputs": [
    {
     "data": {
      "text/plain": [
       "{0}"
      ]
     },
     "execution_count": 19,
     "metadata": {},
     "output_type": "execute_result"
    }
   ],
   "source": [
    "coker = v2.quotient_space(f.image())\n",
    "coker"
   ]
  },
  {
   "cell_type": "markdown",
   "metadata": {},
   "source": [
    "#### Representing F1Map as Matrix"
   ]
  },
  {
   "cell_type": "code",
   "execution_count": 20,
   "metadata": {},
   "outputs": [
    {
     "name": "stdout",
     "output_type": "stream",
     "text": [
      "[[0 1 0]\n",
      " [0 0 1]]\n"
     ]
    }
   ],
   "source": [
    "V1 = F1VS({1, 2, 3})\n",
    "V2 = F1VS({4, 5})\n",
    "\n",
    "# Define a mapping: {0 → 0, 1 → 4, 2 → 5, 3 → 6}\n",
    "mapping = {0: 0, 1: 0, 2: 4, 3: 5}\n",
    "\n",
    "f = F1Map(v1, v2, mapping)\n",
    "\n",
    "# Get the NumPy matrix\n",
    "matrix = f.to_matrix()\n",
    "print(matrix)"
   ]
  },
  {
   "cell_type": "code",
   "execution_count": 21,
   "metadata": {},
   "outputs": [
    {
     "data": {
      "text/plain": [
       "numpy.ndarray"
      ]
     },
     "execution_count": 21,
     "metadata": {},
     "output_type": "execute_result"
    }
   ],
   "source": [
    "type(matrix)"
   ]
  },
  {
   "cell_type": "markdown",
   "metadata": {},
   "source": [
    "#### Jordan Normal Form of F1Map"
   ]
  },
  {
   "cell_type": "code",
   "execution_count": 22,
   "metadata": {},
   "outputs": [
    {
     "data": {
      "text/plain": [
       "array([[0, 1, 0],\n",
       "       [0, 0, 1],\n",
       "       [0, 0, 0]])"
      ]
     },
     "execution_count": 22,
     "metadata": {},
     "output_type": "execute_result"
    }
   ],
   "source": [
    "mapping_nfl = {0:0, 1:0, 2:1, 3:2}\n",
    "nlf = F1Map(v1,v1, mapping_nfl)\n",
    "nlf.to_matrix()"
   ]
  },
  {
   "cell_type": "markdown",
   "metadata": {},
   "source": [
    "#### F1 Endomorphisms"
   ]
  },
  {
   "cell_type": "code",
   "execution_count": 29,
   "metadata": {},
   "outputs": [
    {
     "name": "stdout",
     "output_type": "stream",
     "text": [
      "F1endo2: {0: 0, 1: 0, 2: 1}\n",
      "F1endo3: {0: 0, 1: 0}\n",
      "F1endo4: {0: 0}\n"
     ]
    }
   ],
   "source": [
    "V1 = F1VS({1, 2, 3})\n",
    "\n",
    "# Define an endomorphism: {0 → 0, 1 → 0, 2 → 1, 3 → 2}\n",
    "mapping_nfl = {0: 0, 1: 0, 2: 1, 3: 2}\n",
    "\n",
    "F1endo = F1Map(V1, V1, mapping_nfl)  # Endomorphism of index 1\n",
    "\n",
    "# Find endomorphism of index 2\n",
    "F1endo2 = F1endo.iter_endomorphism(2)\n",
    "\n",
    "# Find endomorphism of index 3\n",
    "F1endo3 = F1endo.iter_endomorphism(3)\n",
    "\n",
    "F1endo4 = F1endo.iter_endomorphism(4)\n",
    "\n",
    "print(\"F1endo2:\", F1endo2.mapping)\n",
    "print(\"F1endo3:\", F1endo3.mapping) \n",
    "print(\"F1endo4:\", F1endo4.mapping)\n"
   ]
  },
  {
   "cell_type": "code",
   "execution_count": null,
   "metadata": {},
   "outputs": [],
   "source": []
  }
 ],
 "metadata": {
  "kernelspec": {
   "display_name": "base",
   "language": "python",
   "name": "python3"
  },
  "language_info": {
   "codemirror_mode": {
    "name": "ipython",
    "version": 3
   },
   "file_extension": ".py",
   "mimetype": "text/x-python",
   "name": "python",
   "nbconvert_exporter": "python",
   "pygments_lexer": "ipython3",
   "version": "3.9.19"
  }
 },
 "nbformat": 4,
 "nbformat_minor": 2
}
