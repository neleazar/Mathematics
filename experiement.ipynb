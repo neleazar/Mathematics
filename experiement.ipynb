{
 "cells": [
  {
   "cell_type": "code",
   "execution_count": 11,
   "metadata": {},
   "outputs": [
    {
     "data": {
      "text/plain": [
       "[0, 3]"
      ]
     },
     "execution_count": 11,
     "metadata": {},
     "output_type": "execute_result"
    }
   ],
   "source": [
    "lst1 = [1,2,3]\n",
    "lst2 = [1,2]\n",
    "diff = []\n",
    "\n",
    "for i in lst1:\n",
    " if i not in lst2:\n",
    "  diff.append(i)\n",
    "  diff.append(0)\n",
    "  \n",
    "sorted(diff)"
   ]
  },
  {
   "cell_type": "code",
   "execution_count": 2,
   "metadata": {},
   "outputs": [
    {
     "data": {
      "text/plain": [
       "{0}"
      ]
     },
     "execution_count": 2,
     "metadata": {},
     "output_type": "execute_result"
    }
   ],
   "source": [
    "v = set()\n",
    "v.add(0)   \n",
    "v"
   ]
  },
  {
   "cell_type": "code",
   "execution_count": 7,
   "metadata": {},
   "outputs": [
    {
     "data": {
      "text/plain": [
       "3"
      ]
     },
     "execution_count": 7,
     "metadata": {},
     "output_type": "execute_result"
    }
   ],
   "source": [
    "def dim(lst):\n",
    "    return len(lst)-1\n",
    "v1 = [0, 1 ,2, 3]\n",
    "dim(v1)"
   ]
  },
  {
   "cell_type": "code",
   "execution_count": 26,
   "metadata": {},
   "outputs": [],
   "source": [
    "class F1VS:\n",
    "    def __init__(self, elements):\n",
    "        \"\"\"\n",
    "        Initialize the F1 vector space with a set of elements.\n",
    "        Ensure that the base element 0 is included.\n",
    "        \"\"\"\n",
    "        self.elements = set(elements)\n",
    "        self.elements.add(0)  # Ensure 0 is included as the base element\n",
    "\n",
    "    def __repr__(self):\n",
    "        return f\"F1VS({self.elements})\"\n",
    "    def subset(self, subset_elements):\n",
    "        \"\"\"\n",
    "        Create a subset of the vector space.\n",
    "        Ensure that the base element 0 is included in the subset.\n",
    "        \"\"\"\n",
    "        subset = set(subset_elements)\n",
    "        subset.add(0)  # Ensure 0 is included in the subset\n",
    "        if not subset.issubset(self.elements):\n",
    "            raise ValueError(\"Subset contains elements not in the original vector space.\")\n",
    "        return F1VS(subset)\n",
    "        \n",
    "    def dimen(self):\n",
    "        \"\"\"Return the dimension of the vector space (number of elements excluding 0).\"\"\"\n",
    "        return len(self.elements) - 1"
   ]
  },
  {
   "cell_type": "code",
   "execution_count": 27,
   "metadata": {},
   "outputs": [
    {
     "data": {
      "text/plain": [
       "F1VS({0, 1, 2, 3})"
      ]
     },
     "execution_count": 27,
     "metadata": {},
     "output_type": "execute_result"
    }
   ],
   "source": [
    "v3 = F1VS([1,2,3])\n",
    "v3"
   ]
  },
  {
   "cell_type": "code",
   "execution_count": 28,
   "metadata": {},
   "outputs": [
    {
     "data": {
      "text/plain": [
       "3"
      ]
     },
     "execution_count": 28,
     "metadata": {},
     "output_type": "execute_result"
    }
   ],
   "source": [
    "dimen = len(v3.elements) -1\n",
    "dimen"
   ]
  },
  {
   "cell_type": "code",
   "execution_count": 30,
   "metadata": {},
   "outputs": [
    {
     "data": {
      "text/plain": [
       "3"
      ]
     },
     "execution_count": 30,
     "metadata": {},
     "output_type": "execute_result"
    }
   ],
   "source": [
    "v3.dimen()"
   ]
  },
  {
   "cell_type": "code",
   "execution_count": null,
   "metadata": {},
   "outputs": [],
   "source": []
  }
 ],
 "metadata": {
  "kernelspec": {
   "display_name": "base",
   "language": "python",
   "name": "python3"
  },
  "language_info": {
   "codemirror_mode": {
    "name": "ipython",
    "version": 3
   },
   "file_extension": ".py",
   "mimetype": "text/x-python",
   "name": "python",
   "nbconvert_exporter": "python",
   "pygments_lexer": "ipython3",
   "version": "3.9.19"
  }
 },
 "nbformat": 4,
 "nbformat_minor": 2
}
